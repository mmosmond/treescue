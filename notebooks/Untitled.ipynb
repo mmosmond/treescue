{
 "cells": [
  {
   "cell_type": "code",
   "execution_count": 1,
   "metadata": {},
   "outputs": [],
   "source": [
    "import pyslim, tskit, msprime\n",
    "import numpy as np"
   ]
  },
  {
   "cell_type": "code",
   "execution_count": 6,
   "metadata": {},
   "outputs": [],
   "source": [
    "input = \"../data/sim_10000N_10000K_0.05d_0.13s_0.5h_2B_1e-05u_20000000L_2e-08r_1000t_0n.trees\""
   ]
  },
  {
   "cell_type": "code",
   "execution_count": 50,
   "metadata": {},
   "outputs": [],
   "source": [
    "ts = tskit.load(input) #load tree sequence\n",
    "inds = np.random.choice(range(ts.num_individuals), 10, replace=False) #sample k individuals at random\n",
    "ind_nodes = [] #empty vector for nodes\n",
    "for ind in inds: #for each individual\n",
    "    for node in ts.individual(ind).nodes:\n",
    "        ind_nodes.append(node) #append each genome\n",
    "ts = ts.simplify(ind_nodes, keep_input_roots=True) #simplify down to sample while keeping roots for recapitation\n",
    "# works to here"
   ]
  },
  {
   "cell_type": "code",
   "execution_count": 51,
   "metadata": {},
   "outputs": [
    {
     "data": {
      "text/plain": [
       "[Mutation(id=0, site=0, node=482, derived_state='69', parent=-1, metadata={'mutation_list': [{'mutation_type': 1, 'selection_coeff': 0.12999999523162842, 'subpopulation': 1, 'slim_time': 48, 'nucleotide': -1}]}, time=182.0, edge=3645)]"
      ]
     },
     "execution_count": 51,
     "metadata": {},
     "output_type": "execute_result"
    }
   ],
   "source": [
    "[i for i in ts.mutations()]"
   ]
  },
  {
   "cell_type": "code",
   "execution_count": 52,
   "metadata": {},
   "outputs": [],
   "source": [
    "ts = pyslim.update(ts)\n",
    "ts = pyslim.recapitate(ts, recombination_rate=1e-8, ancestral_Ne=1e4) #recapitate trees ERROR HERE!!!"
   ]
  },
  {
   "cell_type": "code",
   "execution_count": 53,
   "metadata": {},
   "outputs": [
    {
     "data": {
      "text/plain": [
       "[Mutation(id=0, site=0, node=482, derived_state='69', parent=-1, metadata={'mutation_list': [{'mutation_type': 1, 'selection_coeff': 0.12999999523162842, 'subpopulation': 1, 'slim_time': 48, 'nucleotide': -1}]}, time=182.0, edge=3645)]"
      ]
     },
     "execution_count": 53,
     "metadata": {},
     "output_type": "execute_result"
    }
   ],
   "source": [
    "[i for i in ts.mutations()]"
   ]
  },
  {
   "cell_type": "code",
   "execution_count": 54,
   "metadata": {},
   "outputs": [],
   "source": [
    "ts = pyslim.generate_nucleotides(ts)"
   ]
  },
  {
   "cell_type": "code",
   "execution_count": 55,
   "metadata": {},
   "outputs": [
    {
     "data": {
      "text/plain": [
       "[Mutation(id=0, site=0, node=482, derived_state='69', parent=-1, metadata={'mutation_list': [{'mutation_type': 1, 'selection_coeff': 0.12999999523162842, 'subpopulation': 1, 'slim_time': 48, 'nucleotide': 2}]}, time=182.0, edge=3645)]"
      ]
     },
     "execution_count": 55,
     "metadata": {},
     "output_type": "execute_result"
    }
   ],
   "source": [
    "[i for i in ts.mutations()]"
   ]
  },
  {
   "cell_type": "code",
   "execution_count": 56,
   "metadata": {},
   "outputs": [],
   "source": [
    "ts = pyslim.convert_alleles(ts)"
   ]
  },
  {
   "cell_type": "code",
   "execution_count": 57,
   "metadata": {},
   "outputs": [
    {
     "data": {
      "text/plain": [
       "[Mutation(id=0, site=0, node=482, derived_state='G', parent=-1, metadata={'mutation_list': [{'mutation_type': 1, 'selection_coeff': 0.12999999523162842, 'subpopulation': 1, 'slim_time': 48, 'nucleotide': 2}]}, time=182.0, edge=3645)]"
      ]
     },
     "execution_count": 57,
     "metadata": {},
     "output_type": "execute_result"
    }
   ],
   "source": [
    "[i for i in ts.mutations()]"
   ]
  },
  {
   "cell_type": "code",
   "execution_count": 58,
   "metadata": {},
   "outputs": [],
   "source": [
    "ts = msprime.sim_mutations(ts, rate=7e-10, model=msprime.JC69(), keep=True) #layer on neutral mutations while keeping the selected mutation"
   ]
  },
  {
   "cell_type": "code",
   "execution_count": 60,
   "metadata": {},
   "outputs": [
    {
     "data": {
      "text/plain": [
       "[Mutation(id=351, site=351, node=482, derived_state='G', parent=-1, metadata={'mutation_list': [{'mutation_type': 1, 'selection_coeff': 0.12999999523162842, 'subpopulation': 1, 'slim_time': 48, 'nucleotide': 2}]}, time=182.0, edge=3645)]"
      ]
     },
     "execution_count": 60,
     "metadata": {},
     "output_type": "execute_result"
    }
   ],
   "source": [
    "[i for i in ts.mutations() if i.time==182.0]"
   ]
  },
  {
   "cell_type": "code",
   "execution_count": 77,
   "metadata": {},
   "outputs": [
    {
     "data": {
      "text/plain": [
       "['TGTTTACTTGCTG',\n",
       " 'GGGTTACTTGCTG',\n",
       " 'TGTTTACGATTCG',\n",
       " 'GGTTTAAGATTCG',\n",
       " 'GGGTTACGATTCG',\n",
       " 'TGTTTACGATTCG',\n",
       " 'TGTTTACTTGCTG',\n",
       " 'GGTTTAAGATTCG',\n",
       " 'GGGCTACTTGCTG',\n",
       " 'GGGTTAAGATTCG',\n",
       " 'GGGTTACTTGCTG',\n",
       " 'TGTTAACTTGCTG',\n",
       " 'TGTTTAAGATTCG',\n",
       " 'GGGTTACTTGCTG',\n",
       " 'GGGTTACGATTCG',\n",
       " 'TGTTTACGATTCG',\n",
       " 'GGGTTACTTGCTG',\n",
       " 'GGTTTACTTGTCG',\n",
       " 'TGTTTACTTGCTG',\n",
       " 'TTTTTGCGATTCG']"
      ]
     },
     "execution_count": 77,
     "metadata": {},
     "output_type": "execute_result"
    }
   ],
   "source": [
    "[i for i in ts.haplotypes(left=9000000, right=10000001)]"
   ]
  },
  {
   "cell_type": "code",
   "execution_count": 14,
   "metadata": {},
   "outputs": [
    {
     "ename": "TypeError",
     "evalue": "an integer is required (got type str)",
     "output_type": "error",
     "traceback": [
      "\u001b[0;31m---------------------------------------------------------------------------\u001b[0m",
      "\u001b[0;31mTypeError\u001b[0m                                 Traceback (most recent call last)",
      "\u001b[0;32m/tmp/ipykernel_133478/3399737571.py\u001b[0m in \u001b[0;36m<module>\u001b[0;34m\u001b[0m\n\u001b[0;32m----> 1\u001b[0;31m \u001b[0mts\u001b[0m \u001b[0;34m=\u001b[0m \u001b[0mmsprime\u001b[0m\u001b[0;34m.\u001b[0m\u001b[0msim_mutations\u001b[0m\u001b[0;34m(\u001b[0m\u001b[0mts\u001b[0m\u001b[0;34m,\u001b[0m \u001b[0mrate\u001b[0m\u001b[0;34m=\u001b[0m\u001b[0;36m7e-9\u001b[0m\u001b[0;34m,\u001b[0m \u001b[0mmodel\u001b[0m\u001b[0;34m=\u001b[0m\u001b[0mmsprime\u001b[0m\u001b[0;34m.\u001b[0m\u001b[0mSLiMMutationModel\u001b[0m\u001b[0;34m(\u001b[0m\u001b[0mtype\u001b[0m\u001b[0;34m=\u001b[0m\u001b[0;34m\"A\"\u001b[0m\u001b[0;34m)\u001b[0m\u001b[0;34m,\u001b[0m \u001b[0mkeep\u001b[0m\u001b[0;34m=\u001b[0m\u001b[0;32mTrue\u001b[0m\u001b[0;34m)\u001b[0m \u001b[0;31m#layer on neutral mutations while keeping the selected mutation\u001b[0m\u001b[0;34m\u001b[0m\u001b[0;34m\u001b[0m\u001b[0m\n\u001b[0m",
      "\u001b[0;31mTypeError\u001b[0m: an integer is required (got type str)"
     ]
    }
   ],
   "source": [
    "ts = msprime.sim_mutations(ts, rate=7e-9, model=msprime.SLiMMutationModel(type=0), keep=True) #layer on neutral mutations while keeping the selected mutation"
   ]
  },
  {
   "cell_type": "code",
   "execution_count": 33,
   "metadata": {},
   "outputs": [],
   "source": [
    "with open('test.vcf', \"w\") as vcf_file:\n",
    "    ts.write_vcf(vcf_file, individuals = range(10)) #write out as VCF with arbitrary ID names"
   ]
  },
  {
   "cell_type": "code",
   "execution_count": 10,
   "metadata": {},
   "outputs": [],
   "source": [
    "ts.write_vcf?"
   ]
  },
  {
   "cell_type": "code",
   "execution_count": null,
   "metadata": {},
   "outputs": [],
   "source": []
  }
 ],
 "metadata": {
  "kernelspec": {
   "display_name": "tsrescue",
   "language": "python",
   "name": "tsrescue"
  },
  "language_info": {
   "codemirror_mode": {
    "name": "ipython",
    "version": 3
   },
   "file_extension": ".py",
   "mimetype": "text/x-python",
   "name": "python",
   "nbconvert_exporter": "python",
   "pygments_lexer": "ipython3",
   "version": "3.9.8"
  }
 },
 "nbformat": 4,
 "nbformat_minor": 4
}
