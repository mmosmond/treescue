{
 "cells": [
  {
   "cell_type": "code",
   "execution_count": 7,
   "metadata": {},
   "outputs": [],
   "source": [
    "import pyslim, tskit, msprime\n",
    "import numpy as np"
   ]
  },
  {
   "cell_type": "code",
   "execution_count": 2,
   "metadata": {},
   "outputs": [],
   "source": [
    "input = \"data/sim_10000N_10000K_0.05d_0.13s_0.5h_2B_1e-05u_20000001L_2e-08r_1000t_0n.trees\""
   ]
  },
  {
   "cell_type": "code",
   "execution_count": 3,
   "metadata": {},
   "outputs": [],
   "source": [
    "ts = tskit.load(input) #load tree sequence\n",
    "inds = np.random.choice(range(ts.num_individuals), 10, replace=False) #sample k individuals at random\n",
    "ind_nodes = [] #empty vector for nodes\n",
    "for ind in inds: #for each individual\n",
    "    for node in ts.individual(ind).nodes:\n",
    "        ind_nodes.append(node) #append each genome\n",
    "ts = ts.simplify(ind_nodes, keep_input_roots=True) #simplify down to sample while keeping roots for recapitation\n",
    "# works to here"
   ]
  },
  {
   "cell_type": "code",
   "execution_count": 5,
   "metadata": {},
   "outputs": [
    {
     "name": "stderr",
     "output_type": "stream",
     "text": [
      "/gpfs/fs1/home/m/mmosmond/mmosmond/.virtualenvs/tsrescue/lib/python3.9/site-packages/pyslim/slim_metadata.py:912: UserWarning: This is a version 0.7 SLiM tree sequence. When you write this out, it will be converted to version 0.8.\n",
      "  warnings.warn(\"This is a version {} SLiM tree sequence.\".format(file_version) +\n",
      "/gpfs/fs1/home/m/mmosmond/mmosmond/.virtualenvs/tsrescue/lib/python3.9/site-packages/msprime/ancestry.py:831: TimeUnitsMismatchWarning: The initial_state has time_units=ticks but time is measured in generations in msprime. This may lead to significant discrepancies between the timescales. If you wish to suppress this warning, you can use, e.g., warnings.simplefilter('ignore', msprime.TimeUnitsMismatchWarning)\n",
      "  warnings.warn(message, TimeUnitsMismatchWarning)\n"
     ]
    }
   ],
   "source": [
    "ts = pyslim.update(ts)\n",
    "ts = pyslim.recapitate(ts, recombination_rate=1e-8, ancestral_Ne=1e4) #recapitate trees ERROR HERE!!!"
   ]
  },
  {
   "cell_type": "code",
   "execution_count": 8,
   "metadata": {},
   "outputs": [],
   "source": [
    "ts = msprime.sim_mutations(ts, rate=7e-9, model=msprime.SLiMMutationModel(type=0), keep=True) #layer on neutral mutations while keeping the selected mutation"
   ]
  },
  {
   "cell_type": "code",
   "execution_count": 9,
   "metadata": {},
   "outputs": [],
   "source": [
    "with open('test.vcf', \"w\") as vcf_file:\n",
    "    ts.write_vcf(vcf_file, individuals = range(10)) #write out as VCF with arbitrary ID names"
   ]
  },
  {
   "cell_type": "code",
   "execution_count": 10,
   "metadata": {},
   "outputs": [],
   "source": [
    "ts.write_vcf?"
   ]
  },
  {
   "cell_type": "code",
   "execution_count": null,
   "metadata": {},
   "outputs": [],
   "source": []
  }
 ],
 "metadata": {
  "kernelspec": {
   "display_name": "tsrescue",
   "language": "python",
   "name": "tsrescue"
  },
  "language_info": {
   "codemirror_mode": {
    "name": "ipython",
    "version": 3
   },
   "file_extension": ".py",
   "mimetype": "text/x-python",
   "name": "python",
   "nbconvert_exporter": "python",
   "pygments_lexer": "ipython3",
   "version": "3.9.8"
  }
 },
 "nbformat": 4,
 "nbformat_minor": 4
}
